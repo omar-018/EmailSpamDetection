{
 "cells": [
  {
   "cell_type": "markdown",
   "metadata": {},
   "source": [
    "# **Naive Bayes for Email Spam Detection**"
   ]
  },
  {
   "cell_type": "markdown",
   "metadata": {},
   "source": [
    "### **Importing Libraries**"
   ]
  },
  {
   "cell_type": "code",
   "execution_count": 1,
   "metadata": {},
   "outputs": [],
   "source": [
    "import pandas as pd\n",
    "import numpy as np\n",
    "import matplotlib.pyplot as plt\n",
    "import seaborn as sns\n",
    "import re\n",
    "import nltk\n",
    "import spacy\n",
    "import email\n",
    "from nltk.corpus import stopwords\n",
    "from nltk.stem import WordNetLemmatizer\n",
    "import warnings\n",
    "warnings.filterwarnings('ignore')\n",
    "wnl = WordNetLemmatizer()"
   ]
  },
  {
   "cell_type": "markdown",
   "metadata": {},
   "source": [
    "### **Getting the data**"
   ]
  },
  {
   "cell_type": "code",
   "execution_count": 2,
   "metadata": {},
   "outputs": [],
   "source": [
    "enron_df = pd.read_csv('emails.csv', encoding = 'utf-8')"
   ]
  },
  {
   "cell_type": "code",
   "execution_count": 3,
   "metadata": {},
   "outputs": [
    {
     "data": {
      "text/html": [
       "<div>\n",
       "<style scoped>\n",
       "    .dataframe tbody tr th:only-of-type {\n",
       "        vertical-align: middle;\n",
       "    }\n",
       "\n",
       "    .dataframe tbody tr th {\n",
       "        vertical-align: top;\n",
       "    }\n",
       "\n",
       "    .dataframe thead th {\n",
       "        text-align: right;\n",
       "    }\n",
       "</style>\n",
       "<table border=\"1\" class=\"dataframe\">\n",
       "  <thead>\n",
       "    <tr style=\"text-align: right;\">\n",
       "      <th></th>\n",
       "      <th>file</th>\n",
       "      <th>message</th>\n",
       "    </tr>\n",
       "  </thead>\n",
       "  <tbody>\n",
       "    <tr>\n",
       "      <th>0</th>\n",
       "      <td>allen-p/_sent_mail/1.</td>\n",
       "      <td>Message-ID: &lt;18782981.1075855378110.JavaMail.e...</td>\n",
       "    </tr>\n",
       "    <tr>\n",
       "      <th>1</th>\n",
       "      <td>allen-p/_sent_mail/10.</td>\n",
       "      <td>Message-ID: &lt;15464986.1075855378456.JavaMail.e...</td>\n",
       "    </tr>\n",
       "    <tr>\n",
       "      <th>2</th>\n",
       "      <td>allen-p/_sent_mail/100.</td>\n",
       "      <td>Message-ID: &lt;24216240.1075855687451.JavaMail.e...</td>\n",
       "    </tr>\n",
       "    <tr>\n",
       "      <th>3</th>\n",
       "      <td>allen-p/_sent_mail/1000.</td>\n",
       "      <td>Message-ID: &lt;13505866.1075863688222.JavaMail.e...</td>\n",
       "    </tr>\n",
       "    <tr>\n",
       "      <th>4</th>\n",
       "      <td>allen-p/_sent_mail/1001.</td>\n",
       "      <td>Message-ID: &lt;30922949.1075863688243.JavaMail.e...</td>\n",
       "    </tr>\n",
       "  </tbody>\n",
       "</table>\n",
       "</div>"
      ],
      "text/plain": [
       "                       file                                            message\n",
       "0     allen-p/_sent_mail/1.  Message-ID: <18782981.1075855378110.JavaMail.e...\n",
       "1    allen-p/_sent_mail/10.  Message-ID: <15464986.1075855378456.JavaMail.e...\n",
       "2   allen-p/_sent_mail/100.  Message-ID: <24216240.1075855687451.JavaMail.e...\n",
       "3  allen-p/_sent_mail/1000.  Message-ID: <13505866.1075863688222.JavaMail.e...\n",
       "4  allen-p/_sent_mail/1001.  Message-ID: <30922949.1075863688243.JavaMail.e..."
      ]
     },
     "execution_count": 3,
     "metadata": {},
     "output_type": "execute_result"
    }
   ],
   "source": [
    "enron_df.head()"
   ]
  },
  {
   "cell_type": "code",
   "execution_count": 7,
   "metadata": {},
   "outputs": [
    {
     "data": {
      "text/plain": [
       "\"Message-ID: <18782981.1075855378110.JavaMail.evans@thyme>\\nDate: Mon, 14 May 2001 16:39:00 -0700 (PDT)\\nFrom: phillip.allen@enron.com\\nTo: tim.belden@enron.com\\nSubject: \\nMime-Version: 1.0\\nContent-Type: text/plain; charset=us-ascii\\nContent-Transfer-Encoding: 7bit\\nX-From: Phillip K Allen\\nX-To: Tim Belden <Tim Belden/Enron@EnronXGate>\\nX-cc: \\nX-bcc: \\nX-Folder: \\\\Phillip_Allen_Jan2002_1\\\\Allen, Phillip K.\\\\'Sent Mail\\nX-Origin: Allen-P\\nX-FileName: pallen (Non-Privileged).pst\\n\\nHere is our forecast\\n\\n \""
      ]
     },
     "execution_count": 7,
     "metadata": {},
     "output_type": "execute_result"
    }
   ],
   "source": [
    "# Analyzing the representation of text in a message\n",
    "enron_df.loc[0]['message']"
   ]
  },
  {
   "cell_type": "code",
   "execution_count": 8,
   "metadata": {},
   "outputs": [],
   "source": [
    "# Extracting the body of all ham messages\n",
    "mssgs = enron_df['message'].apply(email.message_from_string)\n",
    "enron_df['body'] = mssgs.apply(lambda x: x.get_payload())"
   ]
  },
  {
   "cell_type": "code",
   "execution_count": 9,
   "metadata": {},
   "outputs": [],
   "source": [
    "# Function to read from a file\n",
    "def read_from_file(filename):\n",
    "    with open(filename, 'r', encoding = \"latin1\") as f:\n",
    "        return f.read()"
   ]
  },
  {
   "cell_type": "code",
   "execution_count": 10,
   "metadata": {},
   "outputs": [],
   "source": [
    "# Getting the emails and saving it to a dataframe\n",
    "fraud_data = read_from_file('fradulent_emails.txt')\n",
    "fraud_data = fraud_data.split('From r')\n",
    "fraud_df = pd.DataFrame(fraud_data, columns = ['message'], dtype = str)"
   ]
  },
  {
   "cell_type": "code",
   "execution_count": 11,
   "metadata": {},
   "outputs": [],
   "source": [
    "# Extracting the body of all fradulent messages\n",
    "mssgs = fraud_df['message'].apply(email.message_from_string)\n",
    "fraud_df['body'] = mssgs.apply(lambda x: x.get_payload())"
   ]
  },
  {
   "cell_type": "code",
   "execution_count": 12,
   "metadata": {},
   "outputs": [],
   "source": [
    "# Removing null values and empty strings\n",
    "fraud_df = fraud_df[fraud_df['body'].notna()]\n",
    "fraud_df = fraud_df[fraud_df['body'] != '']\n",
    "# Getting indices of rows that are not a string\n",
    "idx = fraud_df[fraud_df['body'].apply(lambda x: type(x) != str)].index\n",
    "# Dropping these rows\n",
    "fraud_df.drop(idx, inplace = True)"
   ]
  },
  {
   "cell_type": "code",
   "execution_count": 13,
   "metadata": {},
   "outputs": [],
   "source": [
    "# Dropping all columns except message itself\n",
    "enron_df.drop(['file', 'message'], axis = 1, inplace = True)\n",
    "fraud_df.drop(['message'], axis = 1, inplace = True)"
   ]
  },
  {
   "cell_type": "code",
   "execution_count": 14,
   "metadata": {},
   "outputs": [],
   "source": [
    "# Adding category columns to both dataframes\n",
    "enron_df['category'] = 0\n",
    "fraud_df['category'] = 1\n",
    "# Combining both datasets and sampling each of them to 2000 random rows\n",
    "emails_df = pd.concat([enron_df.sample(2000), fraud_df.sample(2000)], ignore_index = True)"
   ]
  },
  {
   "cell_type": "markdown",
   "metadata": {},
   "source": [
    "### **Cleaning the data**"
   ]
  },
  {
   "cell_type": "code",
   "execution_count": 5,
   "metadata": {},
   "outputs": [],
   "source": [
    "# Edit accordingly but takes a while to run\n",
    "pos_tags = [\"ADJ\", \"NOUN\", \"VERB\"]\n",
    "def lemmatize_with_tag(text, pos_tags = pos_tags):\n",
    "    nlp = spacy.load(\"en_core_web_sm\", disable = [\"parser\", \"ner\"])\n",
    "    tagged_text = []\n",
    "    doc = nlp(text)\n",
    "    for token in doc:\n",
    "        if token.pos_ in pos_tags:\n",
    "            tagged_text.append(token.lemma_)\n",
    "        else:\n",
    "            tagged_text.append(token.text)\n",
    "    return(' '.join(tagged_text))"
   ]
  },
  {
   "cell_type": "code",
   "execution_count": 6,
   "metadata": {},
   "outputs": [],
   "source": [
    "# Preprocessing the text\n",
    "def clean_text(text, reg):\n",
    "    text = text.lower()\n",
    "    text = re.sub(reg, ' ', text)\n",
    "    text = text.split()\n",
    "    text = [wnl.lemmatize(word) for word in text if len(word) > 3 and word not in stopwords.words('english')]\n",
    "    text = ' '.join(text)\n",
    "    return text"
   ]
  },
  {
   "cell_type": "code",
   "execution_count": 15,
   "metadata": {},
   "outputs": [],
   "source": [
    "# Cleaning the text with regex, lemmatization without POS tags and removing stopwords\n",
    "emails_df['body'] = emails_df['body'].apply(lambda x: clean_text(x, '[^a-z]'))\n",
    "# Lemmatization with POS tags take a while, comment if needed\n",
    "emails_df['body'] = emails_df['body'].apply(lambda x: lemmatize_with_tag(x))"
   ]
  },
  {
   "cell_type": "code",
   "execution_count": 16,
   "metadata": {},
   "outputs": [
    {
     "data": {
      "text/html": [
       "<div>\n",
       "<style scoped>\n",
       "    .dataframe tbody tr th:only-of-type {\n",
       "        vertical-align: middle;\n",
       "    }\n",
       "\n",
       "    .dataframe tbody tr th {\n",
       "        vertical-align: top;\n",
       "    }\n",
       "\n",
       "    .dataframe thead th {\n",
       "        text-align: right;\n",
       "    }\n",
       "</style>\n",
       "<table border=\"1\" class=\"dataframe\">\n",
       "  <thead>\n",
       "    <tr style=\"text-align: right;\">\n",
       "      <th></th>\n",
       "      <th>body</th>\n",
       "      <th>category</th>\n",
       "    </tr>\n",
       "  </thead>\n",
       "  <tbody>\n",
       "    <tr>\n",
       "      <th>3995</th>\n",
       "      <td>willams terry commercial bank senegal dial yor...</td>\n",
       "      <td>1</td>\n",
       "    </tr>\n",
       "    <tr>\n",
       "      <th>3996</th>\n",
       "      <td>audit accounting unit foreign operation depart...</td>\n",
       "      <td>1</td>\n",
       "    </tr>\n",
       "    <tr>\n",
       "      <th>3997</th>\n",
       "      <td>office revd peter clark director special duty ...</td>\n",
       "      <td>1</td>\n",
       "    </tr>\n",
       "    <tr>\n",
       "      <th>3998</th>\n",
       "      <td>html benedict hill national westminster bank n...</td>\n",
       "      <td>1</td>\n",
       "    </tr>\n",
       "    <tr>\n",
       "      <th>3999</th>\n",
       "      <td>dear madam name retire work next year write in...</td>\n",
       "      <td>1</td>\n",
       "    </tr>\n",
       "  </tbody>\n",
       "</table>\n",
       "</div>"
      ],
      "text/plain": [
       "                                                   body  category\n",
       "3995  willams terry commercial bank senegal dial yor...         1\n",
       "3996  audit accounting unit foreign operation depart...         1\n",
       "3997  office revd peter clark director special duty ...         1\n",
       "3998  html benedict hill national westminster bank n...         1\n",
       "3999  dear madam name retire work next year write in...         1"
      ]
     },
     "execution_count": 16,
     "metadata": {},
     "output_type": "execute_result"
    }
   ],
   "source": [
    "emails_df.tail()"
   ]
  },
  {
   "cell_type": "markdown",
   "metadata": {},
   "source": [
    "### **Exploratory Data Analysis (EDA)**"
   ]
  },
  {
   "cell_type": "markdown",
   "metadata": {},
   "source": [
    "**Analyzing if there's any correlation between length of the message and it's respective category**"
   ]
  },
  {
   "cell_type": "code",
   "execution_count": 48,
   "metadata": {},
   "outputs": [
    {
     "data": {
      "image/png": "[encoded data removed]",
      "text/plain": [
       "<Figure size 648x504 with 2 Axes>"
      ]
     },
     "metadata": {},
     "output_type": "display_data"
    }
   ],
   "source": [
    "# Plotting correlation matrix for length of message and category\n",
    "temp_df = emails_df\n",
    "temp_df['length'] = temp_df['body'].apply(lambda x: len(x))\n",
    "plt.figure(figsize = (9, 7))\n",
    "plt.title('Correlation matrix', fontsize = 18, fontweight = 'bold', pad = 15)\n",
    "# plot correlation matrix in percentage\n",
    "sns.heatmap(temp_df.corr(), annot = True, fmt = '.0%', cmap = 'gray', annot_kws = {\"size\": 13})\n",
    "plt.show()\n",
    "# No correlation"
   ]
  },
  {
   "cell_type": "markdown",
   "metadata": {},
   "source": [
    "**Let's find out if the top words of both categories have overlapping words**"
   ]
  },
  {
   "cell_type": "code",
   "execution_count": 18,
   "metadata": {},
   "outputs": [],
   "source": [
    "from sklearn.feature_extraction.text import CountVectorizer"
   ]
  },
  {
   "cell_type": "code",
   "execution_count": 19,
   "metadata": {},
   "outputs": [],
   "source": [
    "# Get top n words for any corpus\n",
    "def get_top_n_words(corpus, n = None):\n",
    "    vec = CountVectorizer().fit(corpus)\n",
    "    bag_of_words = vec.transform(corpus)\n",
    "    sum_words = bag_of_words.sum(axis = 0) \n",
    "    words_freq = [(word, sum_words[0, idx]) for word, idx in vec.vocabulary_.items()]\n",
    "    words_freq = sorted(words_freq, key = lambda x: x[1], reverse = True)\n",
    "    return words_freq[:n]"
   ]
  },
  {
   "cell_type": "code",
   "execution_count": 20,
   "metadata": {},
   "outputs": [],
   "source": [
    "# Function to make top n words for a given feature and target\n",
    "def make_top_n_words(df, text_col, target_col, n = None):\n",
    "    list_of_targets = df[target_col].unique().tolist()\n",
    "    indices = [df[df[target_col] == cat].index.values.tolist() for cat in list_of_targets]\n",
    "    corpus = [df.loc[index][text_col].tolist() for index in indices]\n",
    "    top_n_words = [get_top_n_words(text, n) for text in corpus]\n",
    "    return top_n_words"
   ]
  },
  {
   "cell_type": "code",
   "execution_count": 21,
   "metadata": {},
   "outputs": [],
   "source": [
    "top_20_w_per_cat = make_top_n_words(emails_df, 'body', 'category', 20)"
   ]
  },
  {
   "cell_type": "code",
   "execution_count": 78,
   "metadata": {},
   "outputs": [
    {
     "data": {
      "image/png": "[encoded data removed]",
      "text/plain": [
       "<Figure size 1080x1296 with 2 Axes>"
      ]
     },
     "metadata": {},
     "output_type": "display_data"
    }
   ],
   "source": [
    "# Plotting the top 20 words for each category\n",
    "plt.figure(figsize = (15, 18))\n",
    "colors = ['#777777', '#27445C']\n",
    "plt.suptitle('Top 20 Words for Each category', fontsize = 18, fontweight = 'bold', y = 0.96)\n",
    "for i in range(len(top_20_w_per_cat)):\n",
    "    plt.subplot(2, 2, i + 1)\n",
    "    x, y = zip(*top_20_w_per_cat[i])\n",
    "    plt.barh(x, y, color = colors[i], edgecolor = \"#fff\", linewidth = 0.75, height = 0.8, align = 'center')\n",
    "    plt.xticks(fontsize = 13)\n",
    "    plt.xlabel('Frequency', fontsize = 15, fontweight = 'bold')\n",
    "    plt.yticks(fontsize = 13)\n",
    "    plt.ylabel('Words', fontsize = 15, fontweight = 'bold')\n",
    "    plt.tight_layout(pad = 3.5)"
   ]
  },
  {
   "cell_type": "markdown",
   "metadata": {},
   "source": [
    "**Not a lot of common words but let's remove what we have**"
   ]
  },
  {
   "cell_type": "code",
   "execution_count": 23,
   "metadata": {},
   "outputs": [
    {
     "data": {
      "text/plain": [
       "['please', 'company', 'know']"
      ]
     },
     "execution_count": 23,
     "metadata": {},
     "output_type": "execute_result"
    }
   ],
   "source": [
    "# Find common words with top_20_w_per_cat\n",
    "common_words = []\n",
    "for i in range(len(top_20_w_per_cat[0])):\n",
    "    if top_20_w_per_cat[0][i][0] in [word[0] for word in top_20_w_per_cat[1]]:\n",
    "        common_words.append(top_20_w_per_cat[0][i][0])\n",
    "common_words"
   ]
  },
  {
   "cell_type": "code",
   "execution_count": 24,
   "metadata": {},
   "outputs": [],
   "source": [
    "common_words.append('enron')"
   ]
  },
  {
   "cell_type": "code",
   "execution_count": 25,
   "metadata": {},
   "outputs": [],
   "source": [
    "# Removing words that are in common words for email_df\n",
    "emails_df['body'] = emails_df['body'].apply(lambda x: ' '.join([word for word in x.split() if word not in common_words]))"
   ]
  },
  {
   "cell_type": "markdown",
   "metadata": {},
   "source": [
    "### **Convert the text data into vectors**"
   ]
  },
  {
   "cell_type": "code",
   "execution_count": 26,
   "metadata": {},
   "outputs": [],
   "source": [
    "from sklearn.feature_extraction.text import TfidfVectorizer"
   ]
  },
  {
   "cell_type": "code",
   "execution_count": 27,
   "metadata": {},
   "outputs": [],
   "source": [
    "# Function that returns tf-idf matrix and vector\n",
    "def make_tfidf_vectorizer(data, ng = (1,1)):\n",
    "    vectorizer = TfidfVectorizer(ngram_range = ng)\n",
    "    matrix = vectorizer.fit_transform(data)\n",
    "    return matrix, vectorizer"
   ]
  },
  {
   "cell_type": "code",
   "execution_count": 28,
   "metadata": {},
   "outputs": [],
   "source": [
    "# Getting tf-idf matrix and vector for the body column\n",
    "tfidf_matrix, tfidf_vectorizer = make_tfidf_vectorizer(emails_df['body'])"
   ]
  },
  {
   "cell_type": "markdown",
   "metadata": {},
   "source": [
    "### **Splitting the data into train and test sets**"
   ]
  },
  {
   "cell_type": "code",
   "execution_count": 29,
   "metadata": {},
   "outputs": [],
   "source": [
    "from sklearn.model_selection import train_test_split\n",
    "from sklearn.model_selection import GridSearchCV\n",
    "from sklearn.naive_bayes import BernoulliNB\n",
    "from sklearn.naive_bayes import MultinomialNB \n",
    "from sklearn.naive_bayes import GaussianNB"
   ]
  },
  {
   "cell_type": "code",
   "execution_count": 30,
   "metadata": {},
   "outputs": [],
   "source": [
    "# Creating a set of models and their parameters\n",
    "model_params = {\n",
    "    'bernoulli_nb' : \n",
    "    {\n",
    "        'model' : BernoulliNB(),\n",
    "        'params' : \n",
    "        {\n",
    "            'alpha' : [0.00001, 0.0001, 0.001, 0.01, 0.1],\n",
    "            'binarize' : [0.0, 0.2, 0.4, 0.6, 0.8, 1.0],\n",
    "            'fit_prior' : [True, False]\n",
    "        }\n",
    "    },\n",
    "    'multinomial_nb' : \n",
    "    {\n",
    "        'model' : MultinomialNB(),\n",
    "        'params' : \n",
    "        {\n",
    "            'alpha' : [0.00001, 0.0001, 0.001, 0.01, 0.1],\n",
    "            'fit_prior' : [True, False],\n",
    "            'class_prior' : [None, [0.5, 0.5], [0.6, 0.4], [0.7, 0.3], [0.8, 0.2], [0.9, 0.1]]        \n",
    "        }\n",
    "    },\n",
    "    'gaussian_nb' : \n",
    "    {\n",
    "        'model' : GaussianNB(),\n",
    "        'params' : \n",
    "        {\n",
    "            'var_smoothing' : np.logspace(0, -9, num = 100)\n",
    "        }\n",
    "    }\n",
    "}"
   ]
  },
  {
   "cell_type": "code",
   "execution_count": 31,
   "metadata": {},
   "outputs": [],
   "source": [
    "# Using the best parameters to train each model\n",
    "x_train, x_test, y_train, y_test = train_test_split(tfidf_matrix.toarray(), emails_df['category'], test_size = 0.2)"
   ]
  },
  {
   "cell_type": "code",
   "execution_count": 32,
   "metadata": {},
   "outputs": [],
   "source": [
    "# To store model scores\n",
    "model_scores = []\n",
    "y_predictions = []\n",
    "# y_predictions_proba = [] # Uncomment if needed\n",
    "# Looping through the models and their parameters\n",
    "for modelName, mp in model_params.items():\n",
    "    # Doing a grid search to find the best parameters using 10 fold cross validation\n",
    "    clf = GridSearchCV(mp['model'], mp['params'], cv = 10, return_train_score = False)\n",
    "    clf.fit(x_train, y_train)\n",
    "    y_predictions.append(clf.predict(x_test))\n",
    "    # y_predictions_proba.append(clf.predict_proba(x_test)) # Uncomment if needed\n",
    "    # Storing the best model, thier parameters and best score\n",
    "    model_scores.append({\n",
    "        'model' : modelName,\n",
    "        'best_params' : clf.best_params_,\n",
    "        'best_score' : clf.best_score_\n",
    "    })"
   ]
  },
  {
   "cell_type": "code",
   "execution_count": 33,
   "metadata": {},
   "outputs": [
    {
     "data": {
      "text/html": [
       "<div>\n",
       "<style scoped>\n",
       "    .dataframe tbody tr th:only-of-type {\n",
       "        vertical-align: middle;\n",
       "    }\n",
       "\n",
       "    .dataframe tbody tr th {\n",
       "        vertical-align: top;\n",
       "    }\n",
       "\n",
       "    .dataframe thead th {\n",
       "        text-align: right;\n",
       "    }\n",
       "</style>\n",
       "<table border=\"1\" class=\"dataframe\">\n",
       "  <thead>\n",
       "    <tr style=\"text-align: right;\">\n",
       "      <th></th>\n",
       "      <th>model</th>\n",
       "      <th>best_params</th>\n",
       "      <th>best_score</th>\n",
       "    </tr>\n",
       "  </thead>\n",
       "  <tbody>\n",
       "    <tr>\n",
       "      <th>0</th>\n",
       "      <td>bernoulli_nb</td>\n",
       "      <td>{'alpha': 1e-05, 'binarize': 0.0, 'fit_prior':...</td>\n",
       "      <td>0.988750</td>\n",
       "    </tr>\n",
       "    <tr>\n",
       "      <th>1</th>\n",
       "      <td>multinomial_nb</td>\n",
       "      <td>{'alpha': 0.1, 'class_prior': [0.7, 0.3], 'fit...</td>\n",
       "      <td>0.992500</td>\n",
       "    </tr>\n",
       "    <tr>\n",
       "      <th>2</th>\n",
       "      <td>gaussian_nb</td>\n",
       "      <td>{'var_smoothing': 0.008111308307896872}</td>\n",
       "      <td>0.984062</td>\n",
       "    </tr>\n",
       "  </tbody>\n",
       "</table>\n",
       "</div>"
      ],
      "text/plain": [
       "            model                                        best_params  \\\n",
       "0    bernoulli_nb  {'alpha': 1e-05, 'binarize': 0.0, 'fit_prior':...   \n",
       "1  multinomial_nb  {'alpha': 0.1, 'class_prior': [0.7, 0.3], 'fit...   \n",
       "2     gaussian_nb            {'var_smoothing': 0.008111308307896872}   \n",
       "\n",
       "   best_score  \n",
       "0    0.988750  \n",
       "1    0.992500  \n",
       "2    0.984062  "
      ]
     },
     "execution_count": 33,
     "metadata": {},
     "output_type": "execute_result"
    }
   ],
   "source": [
    "# Converting above list of dictionaries to a dataframe\n",
    "scores_df = pd.DataFrame(model_scores, columns = ['model', 'best_params', 'best_score'])\n",
    "scores_df"
   ]
  },
  {
   "cell_type": "markdown",
   "metadata": {},
   "source": [
    "### **Evaluating the model**"
   ]
  },
  {
   "cell_type": "code",
   "execution_count": 34,
   "metadata": {},
   "outputs": [],
   "source": [
    "from sklearn.metrics import classification_report, confusion_matrix\n",
    "from sklearn.metrics import accuracy_score\n",
    "from sklearn.metrics import precision_score\n",
    "from sklearn.metrics import recall_score\n",
    "from sklearn.metrics import f1_score\n",
    "from sklearn.metrics import roc_curve\n",
    "from sklearn.metrics import roc_auc_score"
   ]
  },
  {
   "cell_type": "code",
   "execution_count": 35,
   "metadata": {},
   "outputs": [],
   "source": [
    "# Function to plot roc curve\n",
    "def plot_roc_auc_curve(predictions, y_test, model_names, colors):\n",
    "    plt.figure(figsize = (9, 7))\n",
    "    plt.rcParams['axes.edgecolor'] = '#000'\n",
    "    for i in range(len(predictions)):\n",
    "        fpr, tpr, _ = roc_curve(y_test, predictions[i])\n",
    "        auc = round(roc_auc_score(y_test, predictions[i]), 3)\n",
    "        plt.plot(fpr, tpr, label = model_names[i] + ', AUC = ' + str(auc), linewidth = 2.5, color = colors[i], alpha = 0.8)\n",
    "        plt.xlabel('False Positive Rate', fontsize = 13)\n",
    "        plt.ylabel('True Positive Rate', fontsize = 13)\n",
    "        plt.title('ROC Curve', fontsize = 16, fontweight = 'bold')\n",
    "        plt.xticks(fontsize = 10)\n",
    "        plt.yticks(fontsize = 10)\n",
    "        plt.legend(labelcolor = '#fff', loc = 'lower right', fontsize = 12, facecolor = '#444', edgecolor = '#444', framealpha = 0.5, fancybox = True, shadow = True, borderpad = 2,)\n",
    "        plt.tight_layout(pad = 3)"
   ]
  },
  {
   "cell_type": "code",
   "execution_count": 36,
   "metadata": {},
   "outputs": [],
   "source": [
    "# Function for getting all the scores\n",
    "def get_metrics(y_test, y_pred):\n",
    "    accuracy = accuracy_score(y_test, y_pred)\n",
    "    auc = roc_auc_score(y_test, y_pred)\n",
    "    precision = precision_score(y_test, y_pred)\n",
    "    recall = recall_score(y_test, y_pred)\n",
    "    f1 = f1_score(y_test, y_pred)\n",
    "    return accuracy, auc, precision, recall, f1"
   ]
  },
  {
   "cell_type": "code",
   "execution_count": 74,
   "metadata": {},
   "outputs": [],
   "source": [
    "# Function for plotting all the metrics for all the models\n",
    "def plot_metrics(metrics_list, title, x_ticks, no_of_ticks = 2, y_lim = (0, 1)):\n",
    "    df_metrics = pd.DataFrame(metrics_list, columns = ['accuracy', 'roc_auc', 'precision', 'recall', 'f1'])\n",
    "    sns.set_palette('mako')\n",
    "    df_metrics.plot(kind = 'bar', figsize = (22, 12))\n",
    "    for p in plt.gca().patches:\n",
    "        # annotate bars with their percentage value\n",
    "        plt.gca().annotate('{:.2%}'.format(p.get_height()), (p.get_x() + p.get_width() / 2., p.get_height()), ha = 'center', va = 'center', fontsize = 11, color = '#000', xytext = (0, 10), textcoords = 'offset points', fontweight = 'bold')\n",
    "    plt.title(title, fontsize = 16, fontweight = 'bold', pad = 15)\n",
    "    plt.xticks(np.arange(no_of_ticks), x_ticks, rotation = 0)\n",
    "    plt.ylim(y_lim)\n",
    "    plt.tick_params(axis = 'both', which = 'major', labelsize = 11)\n",
    "    plt.legend(labelcolor = '#fff', loc = 'lower right', fontsize = 12, facecolor = '#000', edgecolor = '#fff', framealpha = 0.9, fancybox = True, shadow = True, borderpad = 2)\n",
    "    plt.show()"
   ]
  },
  {
   "cell_type": "code",
   "execution_count": 38,
   "metadata": {},
   "outputs": [],
   "source": [
    "# Function to get classification report for each model\n",
    "def get_classification_report(y_test, y_pred):\n",
    "    return pd.DataFrame(classification_report(y_test, y_pred, target_names = ['Not Spam', 'Spam'], output_dict = True)).transpose()"
   ]
  },
  {
   "cell_type": "code",
   "execution_count": 39,
   "metadata": {},
   "outputs": [],
   "source": [
    "cr_list = []\n",
    "for pred in y_predictions:\n",
    "    cr_list.append(get_classification_report(y_test, pred))"
   ]
  },
  {
   "cell_type": "code",
   "execution_count": 40,
   "metadata": {},
   "outputs": [
    {
     "data": {
      "text/html": [
       "<div>\n",
       "<style scoped>\n",
       "    .dataframe tbody tr th:only-of-type {\n",
       "        vertical-align: middle;\n",
       "    }\n",
       "\n",
       "    .dataframe tbody tr th {\n",
       "        vertical-align: top;\n",
       "    }\n",
       "\n",
       "    .dataframe thead th {\n",
       "        text-align: right;\n",
       "    }\n",
       "</style>\n",
       "<table border=\"1\" class=\"dataframe\">\n",
       "  <thead>\n",
       "    <tr style=\"text-align: right;\">\n",
       "      <th></th>\n",
       "      <th>precision</th>\n",
       "      <th>recall</th>\n",
       "      <th>f1-score</th>\n",
       "      <th>support</th>\n",
       "    </tr>\n",
       "  </thead>\n",
       "  <tbody>\n",
       "    <tr>\n",
       "      <th>Not Spam</th>\n",
       "      <td>0.985112</td>\n",
       "      <td>1.000000</td>\n",
       "      <td>0.9925</td>\n",
       "      <td>397.0000</td>\n",
       "    </tr>\n",
       "    <tr>\n",
       "      <th>Spam</th>\n",
       "      <td>1.000000</td>\n",
       "      <td>0.985112</td>\n",
       "      <td>0.9925</td>\n",
       "      <td>403.0000</td>\n",
       "    </tr>\n",
       "    <tr>\n",
       "      <th>accuracy</th>\n",
       "      <td>0.992500</td>\n",
       "      <td>0.992500</td>\n",
       "      <td>0.9925</td>\n",
       "      <td>0.9925</td>\n",
       "    </tr>\n",
       "    <tr>\n",
       "      <th>macro avg</th>\n",
       "      <td>0.992556</td>\n",
       "      <td>0.992556</td>\n",
       "      <td>0.9925</td>\n",
       "      <td>800.0000</td>\n",
       "    </tr>\n",
       "    <tr>\n",
       "      <th>weighted avg</th>\n",
       "      <td>0.992612</td>\n",
       "      <td>0.992500</td>\n",
       "      <td>0.9925</td>\n",
       "      <td>800.0000</td>\n",
       "    </tr>\n",
       "  </tbody>\n",
       "</table>\n",
       "</div>"
      ],
      "text/plain": [
       "              precision    recall  f1-score   support\n",
       "Not Spam       0.985112  1.000000    0.9925  397.0000\n",
       "Spam           1.000000  0.985112    0.9925  403.0000\n",
       "accuracy       0.992500  0.992500    0.9925    0.9925\n",
       "macro avg      0.992556  0.992556    0.9925  800.0000\n",
       "weighted avg   0.992612  0.992500    0.9925  800.0000"
      ]
     },
     "execution_count": 40,
     "metadata": {},
     "output_type": "execute_result"
    }
   ],
   "source": [
    "cr_list[0]"
   ]
  },
  {
   "cell_type": "code",
   "execution_count": 41,
   "metadata": {},
   "outputs": [
    {
     "data": {
      "text/html": [
       "<div>\n",
       "<style scoped>\n",
       "    .dataframe tbody tr th:only-of-type {\n",
       "        vertical-align: middle;\n",
       "    }\n",
       "\n",
       "    .dataframe tbody tr th {\n",
       "        vertical-align: top;\n",
       "    }\n",
       "\n",
       "    .dataframe thead th {\n",
       "        text-align: right;\n",
       "    }\n",
       "</style>\n",
       "<table border=\"1\" class=\"dataframe\">\n",
       "  <thead>\n",
       "    <tr style=\"text-align: right;\">\n",
       "      <th></th>\n",
       "      <th>precision</th>\n",
       "      <th>recall</th>\n",
       "      <th>f1-score</th>\n",
       "      <th>support</th>\n",
       "    </tr>\n",
       "  </thead>\n",
       "  <tbody>\n",
       "    <tr>\n",
       "      <th>Not Spam</th>\n",
       "      <td>0.992500</td>\n",
       "      <td>1.000000</td>\n",
       "      <td>0.996236</td>\n",
       "      <td>397.00000</td>\n",
       "    </tr>\n",
       "    <tr>\n",
       "      <th>Spam</th>\n",
       "      <td>1.000000</td>\n",
       "      <td>0.992556</td>\n",
       "      <td>0.996264</td>\n",
       "      <td>403.00000</td>\n",
       "    </tr>\n",
       "    <tr>\n",
       "      <th>accuracy</th>\n",
       "      <td>0.996250</td>\n",
       "      <td>0.996250</td>\n",
       "      <td>0.996250</td>\n",
       "      <td>0.99625</td>\n",
       "    </tr>\n",
       "    <tr>\n",
       "      <th>macro avg</th>\n",
       "      <td>0.996250</td>\n",
       "      <td>0.996278</td>\n",
       "      <td>0.996250</td>\n",
       "      <td>800.00000</td>\n",
       "    </tr>\n",
       "    <tr>\n",
       "      <th>weighted avg</th>\n",
       "      <td>0.996278</td>\n",
       "      <td>0.996250</td>\n",
       "      <td>0.996250</td>\n",
       "      <td>800.00000</td>\n",
       "    </tr>\n",
       "  </tbody>\n",
       "</table>\n",
       "</div>"
      ],
      "text/plain": [
       "              precision    recall  f1-score    support\n",
       "Not Spam       0.992500  1.000000  0.996236  397.00000\n",
       "Spam           1.000000  0.992556  0.996264  403.00000\n",
       "accuracy       0.996250  0.996250  0.996250    0.99625\n",
       "macro avg      0.996250  0.996278  0.996250  800.00000\n",
       "weighted avg   0.996278  0.996250  0.996250  800.00000"
      ]
     },
     "execution_count": 41,
     "metadata": {},
     "output_type": "execute_result"
    }
   ],
   "source": [
    "cr_list[1]"
   ]
  },
  {
   "cell_type": "code",
   "execution_count": 42,
   "metadata": {},
   "outputs": [
    {
     "data": {
      "text/html": [
       "<div>\n",
       "<style scoped>\n",
       "    .dataframe tbody tr th:only-of-type {\n",
       "        vertical-align: middle;\n",
       "    }\n",
       "\n",
       "    .dataframe tbody tr th {\n",
       "        vertical-align: top;\n",
       "    }\n",
       "\n",
       "    .dataframe thead th {\n",
       "        text-align: right;\n",
       "    }\n",
       "</style>\n",
       "<table border=\"1\" class=\"dataframe\">\n",
       "  <thead>\n",
       "    <tr style=\"text-align: right;\">\n",
       "      <th></th>\n",
       "      <th>precision</th>\n",
       "      <th>recall</th>\n",
       "      <th>f1-score</th>\n",
       "      <th>support</th>\n",
       "    </tr>\n",
       "  </thead>\n",
       "  <tbody>\n",
       "    <tr>\n",
       "      <th>Not Spam</th>\n",
       "      <td>0.989691</td>\n",
       "      <td>0.967254</td>\n",
       "      <td>0.978344</td>\n",
       "      <td>397.00000</td>\n",
       "    </tr>\n",
       "    <tr>\n",
       "      <th>Spam</th>\n",
       "      <td>0.968447</td>\n",
       "      <td>0.990074</td>\n",
       "      <td>0.979141</td>\n",
       "      <td>403.00000</td>\n",
       "    </tr>\n",
       "    <tr>\n",
       "      <th>accuracy</th>\n",
       "      <td>0.978750</td>\n",
       "      <td>0.978750</td>\n",
       "      <td>0.978750</td>\n",
       "      <td>0.97875</td>\n",
       "    </tr>\n",
       "    <tr>\n",
       "      <th>macro avg</th>\n",
       "      <td>0.979069</td>\n",
       "      <td>0.978664</td>\n",
       "      <td>0.978743</td>\n",
       "      <td>800.00000</td>\n",
       "    </tr>\n",
       "    <tr>\n",
       "      <th>weighted avg</th>\n",
       "      <td>0.978989</td>\n",
       "      <td>0.978750</td>\n",
       "      <td>0.978746</td>\n",
       "      <td>800.00000</td>\n",
       "    </tr>\n",
       "  </tbody>\n",
       "</table>\n",
       "</div>"
      ],
      "text/plain": [
       "              precision    recall  f1-score    support\n",
       "Not Spam       0.989691  0.967254  0.978344  397.00000\n",
       "Spam           0.968447  0.990074  0.979141  403.00000\n",
       "accuracy       0.978750  0.978750  0.978750    0.97875\n",
       "macro avg      0.979069  0.978664  0.978743  800.00000\n",
       "weighted avg   0.978989  0.978750  0.978746  800.00000"
      ]
     },
     "execution_count": 42,
     "metadata": {},
     "output_type": "execute_result"
    }
   ],
   "source": [
    "cr_list[2]"
   ]
  },
  {
   "cell_type": "code",
   "execution_count": 43,
   "metadata": {},
   "outputs": [],
   "source": [
    "sns.set_style('white')"
   ]
  },
  {
   "cell_type": "code",
   "execution_count": 75,
   "metadata": {},
   "outputs": [
    {
     "data": {
      "image/png": "[encoded data removed]",
      "text/plain": [
       "<Figure size 1584x864 with 1 Axes>"
      ]
     },
     "metadata": {},
     "output_type": "display_data"
    }
   ],
   "source": [
    "# Getting metrics for each model\n",
    "metrics_list = []\n",
    "model_names = ['BernoulliNB', 'MultinomialNB', 'GaussianNB']\n",
    "for pred in y_predictions:\n",
    "    metrics_list.append(get_metrics(y_test, pred))\n",
    "# Plotting metrics for each model\n",
    "# Second last parameter is the number of classifiers on x-axis, last parameter is the y-axis limit (default is (0, 1))\n",
    "plot_metrics(metrics_list, 'Metrics for all the models', model_names, 3, (0.9, 1.01))"
   ]
  },
  {
   "cell_type": "code",
   "execution_count": 45,
   "metadata": {},
   "outputs": [
    {
     "data": {
      "image/png": "[encoded data removed]",
      "text/plain": [
       "<Figure size 648x504 with 1 Axes>"
      ]
     },
     "metadata": {},
     "output_type": "display_data"
    }
   ],
   "source": [
    "plot_roc_auc_curve(y_predictions, y_test, model_names, ['#408ec6', '#e8d71e', '#ed3572'])"
   ]
  },
  {
   "cell_type": "code",
   "execution_count": 46,
   "metadata": {},
   "outputs": [],
   "source": [
    "# Plotting confusion matrix for all models\n",
    "def plot_confusion_matrix(y_test, y_pred, title, act_cols, pred_cols):\n",
    "    cm = confusion_matrix(y_test, y_pred)\n",
    "    cm_df = pd.DataFrame(cm, index = act_cols, columns = pred_cols)\n",
    "    plt.figure(figsize = (10, 8))\n",
    "    plt.title(title, fontsize = 14, fontweight = 'bold', pad = 12)\n",
    "    plt.xticks(fontsize = 12)\n",
    "    plt.yticks(fontsize = 12)\n",
    "    plt.tight_layout(pad = 5)\n",
    "    sns.heatmap(cm_df / np.sum(cm), annot = True, cmap = 'gray', fmt = '.2%', annot_kws = {'size' : 11.5}, linewidths = 1, linecolor = '#000', square = True)"
   ]
  },
  {
   "cell_type": "code",
   "execution_count": 47,
   "metadata": {},
   "outputs": [
    {
     "data": {
      "image/png": "[encoded data removed]",
      "text/plain": [
       "<Figure size 720x576 with 2 Axes>"
      ]
     },
     "metadata": {},
     "output_type": "display_data"
    },
    {
     "data": {
      "image/png": "[encoded data removed]",
      "text/plain": [
       "<Figure size 720x576 with 2 Axes>"
      ]
     },
     "metadata": {},
     "output_type": "display_data"
    },
    {
     "data": {
      "image/png": "[encoded data removed]",
      "text/plain": [
       "<Figure size 720x576 with 2 Axes>"
      ]
     },
     "metadata": {},
     "output_type": "display_data"
    }
   ],
   "source": [
    "# Plotting confusion matrix for all models\n",
    "for i in range(len(y_predictions)):\n",
    "    plot_confusion_matrix(y_test, y_predictions[i], model_names[i], ['Acutal Ham', 'Actual Spam'], ['Predicted Ham', 'Predicted Spam'])"
   ]
  }
 ],
 "metadata": {
  "kernelspec": {
   "display_name": "Python 3.9.12 ('base')",
   "language": "python",
   "name": "python3"
  },
  "language_info": {
   "codemirror_mode": {
    "name": "ipython",
    "version": 3
   },
   "file_extension": ".py",
   "mimetype": "text/x-python",
   "name": "python",
   "nbconvert_exporter": "python",
   "pygments_lexer": "ipython3",
   "version": "3.9.15"
  },
  "orig_nbformat": 4,
  "vscode": {
   "interpreter": {
    "hash": "01ca6cfaac42ff786c46e2dd4ebce2ba71434600ecfbae03c93cf857159fb361"
   }
  }
 },
 "nbformat": 4,
 "nbformat_minor": 2
}
